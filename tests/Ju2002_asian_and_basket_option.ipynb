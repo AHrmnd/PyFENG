{
 "cells": [
  {
   "cell_type": "markdown",
   "id": "crucial-importance",
   "metadata": {},
   "source": [
    "# Pricing Asian and Basket Options Via Taylor Expansion"
   ]
  },
  {
   "cell_type": "markdown",
   "id": "transparent-conviction",
   "metadata": {},
   "source": [
    "## Paper information"
   ]
  },
  {
   "cell_type": "markdown",
   "id": "great-logging",
   "metadata": {},
   "source": [
    "Ju, N. (2002). Pricing Asian and Basket Options Via Taylor Expansion. Journal of Computational Finance, 5(3), 79–103. https://doi.org/10.21314/JCF.2002.088"
   ]
  },
  {
   "cell_type": "markdown",
   "id": "posted-kingston",
   "metadata": {},
   "source": [
    "## abstract"
   ]
  },
  {
   "cell_type": "markdown",
   "id": "pregnant-netherlands",
   "metadata": {},
   "source": [
    "Asian options belong to the so-called path-dependent derivatives. They are among the most difficult to price and hedge both analytically and numerically. Basket options are even harder to price and hedge because of the large number of state variables. Several approaches have been proposed in the literature, including Monte Carlo simulations, tree-based methods, partial differential equations, and analytical approximations among others. The last category is the most appealing because most of the other methods are very complex and slow. Our method belongs to the analytical approximation class. It is based on the observation that though the weighted average of lognormal variables is no longer lognormal, it can be approximated by a lognormal random variable if the ¯rst two moments match the true ¯rst two moments. To have a better approximation, we consider the Taylor expansion of the ratio of the characteristic function of the average to that of the approximating lognormal random variable around zero volatility. We include terms up to ¾6 in the expansion. The resulting option formulas are in closed form. We treat discrete Asian option as a special case of basket options. Formulas for continuous Asian options are obtained from their discrete counterpart. Numerical tests indicate that the formulas are very accurate. Comparisons with all other leading analytical approximations show that our method has performed the best overall in terms of accuracy for both short and long maturity options. Furthermore, unlike some other methods, our approximation treats basket (portfolio) and Asian options in a unified way. Lastly, in the appendix we point out a serious mathematical error of a popular method of pricing Asian options in the literature."
   ]
  },
  {
   "cell_type": "markdown",
   "id": "medieval-scanner",
   "metadata": {},
   "source": [
    "## skeleton"
   ]
  },
  {
   "cell_type": "markdown",
   "id": "combined-encounter",
   "metadata": {},
   "source": [
    "1.  setup for the Taylor expansion: \n",
    "     +  since we have the SDE:  \n",
    "      $ \\frac{dS_{it}}{S_{it}} = g_idt+\\sigma_i dB_t$, where $g_i =r-\\delta_i$, r is the riskless interest rate, $\\delta_i$ is the dividend yield, $\\sigma_i$ the volatility\n",
    "     + for every asset in basket options we have:    \n",
    "      $ S_i (t) = S_i e^{(g_i-\\sigma_i^2/2)t+\\sigma_i w_i(t)}$, i = 1, 2, ..., N\n",
    "     + using $z$ to scale the volitilites, we have:    \n",
    "      $S_i(z,t) = S_i e^{(g_i-z^2\\sigma_i^2/2)t+z\\sigma_i w_i(t)}$.\n",
    "     + so the price of  basket option will be:     \n",
    "      $A(z) =  \\sum_{i=1}^{N}\\chi_i S_i(z,T) = sum_{i=1}^{N}\\chi_i S_i e^{(g_i-z^2\\sigma_i^2/2)t+z\\sigma_i w_i(t)}$"
   ]
  },
  {
   "cell_type": "markdown",
   "id": "sublime-musician",
   "metadata": {},
   "source": [
    "  2.  "
   ]
  },
  {
   "cell_type": "markdown",
   "id": "found-interpretation",
   "metadata": {},
   "source": []
  },
  {
   "cell_type": "markdown",
   "id": "transsexual-oregon",
   "metadata": {},
   "source": []
  },
  {
   "cell_type": "markdown",
   "id": "graphic-rehabilitation",
   "metadata": {},
   "source": []
  }
 ],
 "metadata": {
  "kernelspec": {
   "display_name": "Python 3",
   "language": "python",
   "name": "python3"
  },
  "language_info": {
   "codemirror_mode": {
    "name": "ipython",
    "version": 3
   },
   "file_extension": ".py",
   "mimetype": "text/x-python",
   "name": "python",
   "nbconvert_exporter": "python",
   "pygments_lexer": "ipython3",
   "version": "3.8.5"
  },
  "varInspector": {
   "cols": {
    "lenName": 16,
    "lenType": 16,
    "lenVar": 40
   },
   "kernels_config": {
    "python": {
     "delete_cmd_postfix": "",
     "delete_cmd_prefix": "del ",
     "library": "var_list.py",
     "varRefreshCmd": "print(var_dic_list())"
    },
    "r": {
     "delete_cmd_postfix": ") ",
     "delete_cmd_prefix": "rm(",
     "library": "var_list.r",
     "varRefreshCmd": "cat(var_dic_list()) "
    }
   },
   "types_to_exclude": [
    "module",
    "function",
    "builtin_function_or_method",
    "instance",
    "_Feature"
   ],
   "window_display": false
  }
 },
 "nbformat": 4,
 "nbformat_minor": 5
}

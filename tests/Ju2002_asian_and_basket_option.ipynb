{
 "cells": [
  {
   "cell_type": "markdown",
   "id": "crucial-importance",
   "metadata": {},
   "source": [
    "# Pricing Asian and Basket Options Via Taylor Expansion"
   ]
  },
  {
   "cell_type": "markdown",
   "id": "transparent-conviction",
   "metadata": {},
   "source": [
    "## Paper information"
   ]
  },
  {
   "cell_type": "markdown",
   "id": "great-logging",
   "metadata": {},
   "source": [
    "Ju, N. (2002). Pricing Asian and Basket Options Via Taylor Expansion. Journal of Computational Finance, 5(3), 79–103. https://doi.org/10.21314/JCF.2002.088"
   ]
  },
  {
   "cell_type": "markdown",
   "id": "posted-kingston",
   "metadata": {},
   "source": [
    "## abstract"
   ]
  },
  {
   "cell_type": "markdown",
   "id": "pregnant-netherlands",
   "metadata": {},
   "source": [
    "Asian options belong to the so-called path-dependent derivatives. They are among the most difficult to price and hedge both analytically and numerically. Basket options are even harder to price and hedge because of the large number of state variables. Several approaches have been proposed in the literature, including Monte Carlo simulations, tree-based methods, partial differential equations, and analytical approximations among others. The last category is the most appealing because most of the other methods are very complex and slow. Our method belongs to the analytical approximation class. It is based on the observation that though the weighted average of lognormal variables is no longer lognormal, it can be approximated by a lognormal random variable if the ¯rst two moments match the true ¯rst two moments. To have a better approximation, we consider the Taylor expansion of the ratio of the characteristic function of the average to that of the approximating lognormal random variable around zero volatility. We include terms up to ¾6 in the expansion. The resulting option formulas are in closed form. We treat discrete Asian option as a special case of basket options. Formulas for continuous Asian options are obtained from their discrete counterpart. Numerical tests indicate that the formulas are very accurate. Comparisons with all other leading analytical approximations show that our method has performed the best overall in terms of accuracy for both short and long maturity options. Furthermore, unlike some other methods, our approximation treats basket (portfolio) and Asian options in a unified way. Lastly, in the appendix we point out a serious mathematical error of a popular method of pricing Asian options in the literature."
   ]
  },
  {
   "cell_type": "markdown",
   "id": "medieval-scanner",
   "metadata": {},
   "source": [
    "## skeleton"
   ]
  },
  {
   "cell_type": "markdown",
   "id": "combined-encounter",
   "metadata": {},
   "source": [
    "1.  the price of portfolio: \n",
    "     +  since we have the SDE:  \n",
    "      $ \\frac{dS_{it}}{S_{it}} = g_idt+\\sigma_i dB_t$, where $g_i =r-\\delta_i$, r is the riskless interest rate, $\\delta_i$ is the dividend yield, $\\sigma_i$ the volatility\n",
    "     + for every asset in basket options we have:    \n",
    "      $$ S_i (t) = S_i e^{(g_i-\\sigma_i^2/2)t+\\sigma_i w_i(t)}, i = 1, 2, ..., N$$\n",
    "     + using $z$ to scale the volitilites, we have:    \n",
    "      $$S_i(z,t) = S_i e^{(g_i-z^2\\sigma_i^2/2)t+z\\sigma_i w_i(t)}$$\n",
    "     + so the price of  portfolio can be expressed as:     \n",
    "      $$A(z) =  \\sum_{i=1}^{N}\\chi_i S_i(z,T) = sum_{i=1}^{N}\\chi_i S_i e^{(g_i-z^2\\sigma_i^2/2)t+z\\sigma_i w_i(t)}$$ when z=1, we get the price we want.\n",
    "     * payoff of a basket option is:  \n",
    "      $$BC(T)=(A(1)-K)^+$$"
   ]
  },
  {
   "cell_type": "markdown",
   "id": "sublime-musician",
   "metadata": {},
   "source": [
    "2.  set up for Taylor expansion:\n",
    "    * 这一步就是发现Y那个函数和logU之间的关系，但我想不通为何要这样…逻辑没太懂\n",
    "    * $A(z)$ 是对数正态分布的和，其分布不是对数正态分布，但可以用对数正态分布去近似（Levy,1992)。因为对数正态分布只有两个参数，所以可以用一阶矩和二阶矩和$A(z)$相等的对数正态分布去近似\n",
    "    * $A(z)$的一阶矩和二阶矩：  \n",
    "    $$U_1= \\sum_{i=1}^N \\overline{S}_i=A(0)$$   \n",
    "    $$U_2(z^2)= \\sum_{i,j=1}^N \\overline{S}_i\\overline{S}_je^{z^2\\overline{\\rho}_{ij}}$$\n",
    "    * $Y(z)$is a normal distribution,with mean $m(z^2)$,variance $v(z^2)$.Let $m(z^2)4$,$v(z^2)$ eqaul to $U_1$,$U_2$, we have  \n",
    "    $$m(z^2)=2log(U_1)-1/2log(U_2(z^2))$$  \n",
    "    $$v(z^2)=log(U_2(z^2))-2log(U_1)$$\n",
    "    * $X(z)=log(A(z))$ and try to find the pdf of $X$\n",
    "    * Consider\n",
    "    $$E[e^{i\\phi X(z)}]=E[e^{i\\phi Y(z)}]\\frac{E[e^{i\\phi X(z)}]}{E[e^{i\\phi Y(z)}]}=E[e^{i\\phi Y(z)}]f(z)$$\n",
    "    $$f(z)=\\frac{E[e^{i\\phi X(z)}]}{E[e^{i\\phi Y(z)}]}$$\n",
    "    $E[e^{i\\phi Y(z)}]$ is the characteristic function of the normal variable and $f(z)$ is the ratio of the characteristic function of $X(z)$ to that of $Y(z)$\n",
    "     $$f(z)=E[e^{i\\phi X(z)}]e^{-i \\phi m(z^2)+\\phi^2v(z^2)/2}$$\n",
    "    * Expand$f(z)$ up to $z^6$, method: expand $E(e^{i\\phi X(z)})$ and $e^{-i\\phi m(z^2)+\\phi^2v(z^2)/2}$ respectively and then multiple them\n",
    "    * 展开$e^{-i\\phi m(z^2)+\\phi^2v(z^2)/2}$的步骤就是对$y=-i\\phi m(z^2)+\\phi^2v(z^2)$用泰勒展开到三阶，然后再对$e^y$用泰勒展开。然后就得到下面的这个结果。\n",
    "    $$e^{-i\\phi m(0)+\\phi^2v(0)/2}/2(1-(i\\phi+\\phi^2)a_1+((i\\phi+\\phi^2)^2a_1^2-(i\\phi+\\phi^2)a_2)/2+(3(i\\phi+\\phi^2)^2a_1a_2-(i\\phi+\\phi^2)a_3-(i\\phi+\\phi^2)^3a_1^3)/6)$$\n",
    "    * 展开$g(z)=E(e^{i\\phi X(z)})$就是利用求和和求导可交换顺序(一个定理，他直接就用了，很多经济学金融的文章都直接这么用...)，在期望外面求导等于期望里面求导，然后求了二阶导、四阶导、六阶导（因为奇数阶导数为零），就得到文章里的结果。\n",
    "    $$g(z)\\approx g(0)+\\frac{z^2}{2}g^{''}(0)+\\frac{z^4}{24}g^{(4)}(0)+\\frac{z^6}{720}g^{(6)}(0)$$\n",
    "    (我只检查了二阶导，后面的四阶导和六阶导就没检查了，有点麻烦...)\n",
    "    * 两个相乘就得到$f(z)$的泰勒展开\n",
    "    $$f(z)\\approx 1−i\\phi d_1(z)-\\phi^2d_2(z)+i\\phi^3d_3(z)+\\phi^4d_4(z)$$\n",
    "    * Then we get $E[e^{i\\phi X(1)}]$'s expansion\n",
    "    $$E[e^{i\\phi X(1)}]=e^{i \\phi m(1)-\\phi^2v(1)/2}((1−i\\phi d_1(z)-\\phi^2d_2(z)+i\\phi^3d_3(z)+\\phi^4d_4(z))$$\n",
    "    * 利用傅里叶逆变换得到$X$的pdf\n",
    "    $$h(x)=p(x)+(d_1(1)\\frac{d}{dx}+d_2(1)\\frac{d^2}{dx^2}+d_3(1)\\frac{d^3}{dx^3}+d_4(1)\\frac{d^4}{dx^4})p(x)$$\n",
    "    where $p(x)=\\frac{1}{\\sqrt{2\\pi v(1)}}e^{-\\frac{(x-m(1))^2}{2v(1)}}$"
   ]
  },
  {
   "cell_type": "markdown",
   "id": "found-interpretation",
   "metadata": {},
   "source": [
    "3.  derive the option value\n",
    "    * the value of the option can be expressed as: $BC(T) = (A(1)-K)^+$\n",
    "    * the pdf of $X$ is given by $h(x)$\n",
    "    * 然后对$[e^{X(1)}-K]^+$求期望就得到option的价格\n",
    "    * the final option price is: $$ BC = e^{-rT} E[e^{X(1)}-K]^+ = [U_1e^{-rT}N(y_1)-Ke^{-rT}N(y_2)]+[e^{-rT}K(z_1p(y)+z_2\\frac{dp(y)}{dy}+z_3)\\frac{d^2p(y)}{dy^2}]$$"
   ]
  },
  {
   "cell_type": "markdown",
   "id": "transsexual-oregon",
   "metadata": {},
   "source": [
    "就我其实没怎么看懂 怎么推出A(z)的二阶矩，然后突然定义的Y(z)用来干嘛，为何有这样的关系导致我们开始关心logU的分布，我好菜，带带我"
   ]
  },
  {
   "cell_type": "code",
   "execution_count": null,
   "id": "501d9e82",
   "metadata": {},
   "outputs": [],
   "source": []
  }
 ],
 "metadata": {
  "kernelspec": {
   "display_name": "Python 3",
   "language": "python",
   "name": "python3"
  },
  "language_info": {
   "codemirror_mode": {
    "name": "ipython",
    "version": 3
   },
   "file_extension": ".py",
   "mimetype": "text/x-python",
   "name": "python",
   "nbconvert_exporter": "python",
   "pygments_lexer": "ipython3",
   "version": "3.8.8"
  },
  "varInspector": {
   "cols": {
    "lenName": 16,
    "lenType": 16,
    "lenVar": 40
   },
   "kernels_config": {
    "python": {
     "delete_cmd_postfix": "",
     "delete_cmd_prefix": "del ",
     "library": "var_list.py",
     "varRefreshCmd": "print(var_dic_list())"
    },
    "r": {
     "delete_cmd_postfix": ") ",
     "delete_cmd_prefix": "rm(",
     "library": "var_list.r",
     "varRefreshCmd": "cat(var_dic_list()) "
    }
   },
   "types_to_exclude": [
    "module",
    "function",
    "builtin_function_or_method",
    "instance",
    "_Feature"
   ],
   "window_display": false
  }
 },
 "nbformat": 4,
 "nbformat_minor": 5
}

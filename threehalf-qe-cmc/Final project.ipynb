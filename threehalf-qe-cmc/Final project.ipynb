{
 "cells": [
  {
   "cell_type": "markdown",
   "metadata": {},
   "source": [
    "# QE Scheme for Heston model "
   ]
  },
  {
   "cell_type": "markdown",
   "metadata": {},
   "source": [
    "<font color=black size=3 face=times>**Main references**: <br>\n",
    "         Andersen, L. (2008). Simple and efficient simulation of the Heston stochastic volatility model. *The Journal of Computational Finance, 11*(3), 1–42. https://doi.org/10.21314/JCF.2008.189 <br>\n",
    "        Van Haastrecht, A., & Pelsser, A. (2010). Efficient, almost exact simulation of the heston stochastic volatility model. *International Journal of Theoretical and Applied Finance, 13*(01), 1–43. https://doi.org/10.1142/S0219024910005668 <br>"
   ]
  },
  {
   "cell_type": "markdown",
   "metadata": {},
   "source": [
    "<font color=black size=3 face=times>**1.1. Notation declaration**<br>\n",
    "- $W_X$ and $W_V$ are scalar Brownian motions in some probability measure and assume that $dW_X(t)\\dot dW_Y(t)=\\rho dt$\n",
    "- $\\widehat{X}$ and $\\widehat{V}$ denote discrete-time approximations to $X$ and $V$, i.e. The basic *Euler Scheme would take the form:\n",
    " \\begin{align*}\n",
    "    ln\\widehat{X}(t+\\Delta)&=ln\\widehat{X}(t)-\\frac{1}{2}\\widehat{V}(t)\\Delta+\\sqrt{\\widehat{V}(t)}Z_X\\sqrt{\\Delta} ,\\\\\n",
    "    ln\\widehat{V}(t+\\Delta)&=\\widehat{V}(t)+\\kappa(\\theta-\\widehat{V}(t))\\Delta+\\epsilon\\sqrt{\\widehat{V}(t)}Z_V\\sqrt{\\Delta},\n",
    "    \\end{align*}  \n",
    "- $V(t),V(t+\\Delta)$ are sampled directly from the known conditional distribution of $V(t)$ and $lnX(t),lnX(t+\\Delta)$ are from Gaussian distribution. "
   ]
  },
  {
   "cell_type": "markdown",
   "metadata": {},
   "source": [
    "<font color=black size=3 face=times>**1.2. General discrete-time approximation schemes**<br>\n",
    "    &emsp;&emsp;<font color=black size=3 face=times>**Kahl-Jackel Scheme**<br>\n",
    "    &emsp;&emsp;Using Milstein scheme to discretize the V-process and \"IJK\" discretization for the stock process:\n",
    "    \\begin{align*}\n",
    "    ln\\widehat{X}(t+\\Delta)&=ln\\widehat{X}(t)-\\frac{\\Delta}{4}(\\widehat{V}(t+\\Delta)+\\widehat{V}(t))+\\rho\\sqrt{\\widehat{V}(t)}Z_V\\sqrt{\\Delta}+\\frac{1}{2}\\left(\\sqrt{\\widehat{V}(t+\\Delta)}+\\sqrt{\\widehat{V}(t)}\\right)(Z_X\\sqrt{\\Delta}-\\rho Z_V\\sqrt{\\Delta})+\\frac{1}{4}\\epsilon\\rho\\Delta(Z_V^2-1),\\tag{$1.1$}\\\\\n",
    "    \\widehat{V}(t+\\Delta) &= \\frac{\\widehat{V}(t)+\\kappa\\theta\\Delta+\\epsilon\\sqrt{\\widehat{V}(t)}Z_V\\sqrt{\\Delta}+\\frac{1}{4}\\epsilon^2\\Delta(Z_V^2-1)}{1+\\kappa\\Delta}, \\tag{$1.2$}\n",
    "    \\end{align*}\n",
    "    <br/>\n",
    "    &emsp;&emsp;<font color=black size=3 face=times>**Broadie-Kaya Scheme**<br>\n",
    "\\begin{align*}\n",
    "    V(t+\\Delta)&=V(t)+\\int_{t}^{t+\\Delta}\\kappa(\\theta-V(u))du+\\epsilon \\int_{t}^{t+\\Delta}\\sqrt{V(u)}dW_V(u) ,\\tag{$1.3$}\\\\\n",
    "    lnX(t+\\Delta)&=lnX(t)+\\frac{\\rho}{\\epsilon}(V(t+\\Delta)-V(t)-\\kappa\\theta\\Delta)+(\\frac{\\kappa\\rho}{\\epsilon}-\\frac{1}{2})\\int_{t}^{t+\\Delta}V(u)du+\\sqrt{1-\\rho^2}\\int_{t}^{t+\\Delta}\\sqrt{V(u)}dW(u), \\tag{$1.4$}\n",
    "    \\end{align*}"
   ]
  },
  {
   "cell_type": "markdown",
   "metadata": {},
   "source": [
    "<font color=black size=3 face=times>**3.3. QE Scheme**<br>\n",
    "    &emsp;&emsp; For the non-central chi-square distribution approaches a Gaussian distribution as the non-centrality paremeter approaches $\\infty$, but for small $V(t)$, the non-centrality parameter approaches zero, and the Gaussian variable is typically not accurate.\n",
    "    Let:\n",
    "    \\begin{align*}\n",
    "    m&=\\theta+(\\widehat{V}(t)-\\theta)e^{-\\kappa\\Delta},\\tag{$1.5$}\\\\\n",
    "    s^2&=\\frac{\\widehat{V}(t)\\epsilon^2 e^{-\\kappa\\Delta}}{\\kappa}(1-e^{-\\kappa\\Delta})+\\frac{\\theta\\epsilon^2}{2\\kappa}(1-e^{-\\kappa\\Delta})^2,\\tag{$1.6$}\\\\\n",
    "    \\Psi&\\equiv s^2/m^2 =\\frac{\\frac{\\widehat{V}(t)\\epsilon^2 e^{-\\kappa\\Delta}}{\\kappa}(1-e^{-\\kappa\\Delta})+\\frac{\\theta\\epsilon^2}{2\\kappa}(1-e^{-\\kappa\\Delta})^2}{(\\theta+(\\widehat{V}(t)-\\theta)e^{-\\kappa\\Delta})^2}, \\tag{$1.7$}\n",
    "    \\end{align*}\n",
    "    &emsp;&emsp; The scheme varies when $\\Psi$ is big and when $\\Psi$ is small.<br>\n",
    "    &emsp;&emsp; Assume that some arbitrary level $\\Psi_c\\in [1,2]$ has beem selected. The detailed algorithm for the QE simulation step from $\\widehat{V}(t)$ to $\\widehat{V}(t+\\Delta)$ is then:<br>\n",
    "    &emsp;&emsp;1. Given $\\widehat{V}(t)$, compute $m$ and $s^2$ from the equations (1.5) and (1.6).<br>\n",
    "    &emsp;&emsp;2. Compute $\\Psi=s^2/m^2$<br>\n",
    "    &emsp;&emsp;3. Draw a uniform random number $U_V$<br>\n",
    "    &emsp;&emsp;4. **If** $\\Psi\\leq \\Psi_c$:<br>\n",
    "    &emsp;&emsp;&emsp;&emsp;(a) Compute a and b as:\n",
    "    \\begin{align*}\n",
    "    &b^2=2\\Psi^{-1}-1+\\sqrt{2\\Psi^{-1}}\\sqrt{{2\\Psi^{-1}-1}}\\ge 0,\\tag{$1.8$}\\\\\n",
    "    &a=\\frac{m}{1+b^2},\\tag{$1.9$}\\\\\n",
    "    \\end{align*}\n",
    "    &emsp;&emsp;&emsp;&emsp;(b) Compute $Z_V=\\Phi^{-1}(U_V)$<br>\n",
    "    &emsp;&emsp;&emsp;&emsp;(c) Set $\\widehat{V}(t+\\Delta)=a(b+Z_V)^2$<br>\n",
    "    &emsp;&emsp;5.**Otherwise**, if $\\Psi>\\Psi_c$:<br>\n",
    "    &emsp;&emsp;&emsp;&emsp;(a) Compute $\\beta$ and $p$ as:\n",
    "    \\begin{align*}\n",
    "    &p=\\frac{\\Psi-1}{\\Psi+1}\\in [0,1),\\tag{$1.10$}\\\\\n",
    "    &\\beta=\\frac{1-p}{m}=\\frac{2}{m(\\Psi+1)}>0,\\tag{$1.11$}\\\\\n",
    "    \\end{align*}\n",
    "    &emsp;&emsp;&emsp;&emsp;(b) Set $\\widehat{V}(t+\\Delta)=\\Psi^{-1}(U_V;p,\\beta)$, where $\\Psi^{-1}$ is given as:\n",
    "    $$\\Psi^{-1}(u)=\\Psi^{-1}(u;p,\\beta)=\\left\\{\n",
    "\\begin{aligned}\n",
    "&0,  & 0\\le u\\le p \\\\\n",
    "&\\beta^{-1}ln(\\frac{1-p}{1-u}),& p<u\\le1.\n",
    "\\end{aligned},\\tag{$1.12$}\n",
    "\\right.\n",
    "$$\n",
    "<br/>\n",
    "    &emsp;&emsp; After simulating the path, calculate:\n",
    "\\begin{align*}\n",
    "     E\\left(S_T|V(T),\\int V(t)dt\\right)&=S_0 exp\\left(\\frac{\\rho}{\\nu}(V(T)-V(0))-\\kappa(\\theta-\\int_{0}^{T}V(t)dt)\\right),\\tag{$1.13$}\\\\\n",
    "     \\sigma&=\\left((1-\\rho^2)\\int_{0}^{T}V(t)dt\\right)^{\\frac{1}{2}},\\tag{$1.14$}\\\\\n",
    "    \\end{align*}\n",
    "    &emsp;&emsp; Then bring the Forward price and volatility into the option pricing model."
   ]
  },
  {
   "cell_type": "markdown",
   "metadata": {},
   "source": [
    "# QE Scheme for 3/2 model "
   ]
  },
  {
   "cell_type": "markdown",
   "metadata": {},
   "source": [
    "<font color=black size=3 face=times>**2.1.Derive 3/2 model from heston model**: <br>\n",
    "    The stock price and volatility can be written as:\n",
    "    \\begin{align*}\n",
    "    &dv_t=\\kappa v_t(\\theta-v_t)dt+\\nu v_t^{3/2}dZ_t,\\tag{$2.1$}\\\\\n",
    "    &\\frac{dS_t}{S_t}=\\sigma_t dW_t=\\sigma_t(\\rho dZ_t+\\rho_{*}dX_t),\\tag{$2.2$}\\\\\n",
    "    \\end{align*}\n",
    "where $\\rho_{*}=\\sqrt{1-\\rho^2},v_t=\\sigma_t^2$<br>\n",
    "    Changing variable $x_t=1/v_t$, then we have:\n",
    "    $$dx_t=-\\frac{dv_t}{v_t^2}+\\frac{(dv_t)^2}{v_t^3}=(\\kappa+\\nu^2-\\kappa\\theta x_t)dt-\\nu \\sqrt{x_t}dZ_t,\\tag{$2.3$}$$\n",
    "    Then it's equal to Heston model with new parameters:\n",
    "    $$\\nu^{'}=-\\nu,\\quad\\kappa^{'}=\\kappa \\theta,\\quad\\text{and} \\quad\\theta^{'}=(\\kappa+\\nu^2)/(\\kappa\\theta)$$\n",
    "    We can calculate $S_T$ by:\n",
    "   \\begin{align*}\n",
    "    dln(X_t)&=\\left(\\frac{\\kappa+\\nu^2/2}{x_t}-\\kappa\\theta\\right)dt-\\frac{\\nu}{\\sqrt{x_t}}dZ_t,\\tag{$2.4$}\\\\\n",
    "    \\int_{0}^{T}\\frac{1}{\\sqrt{x_t}}dZ_t&=\\frac{1}{\\nu}\\left(log\\left(\\frac{x_0}{x_T}\\right)+(\\kappa+\\frac{\\nu^2}{2})V_T-\\kappa\\theta T\\right),\\tag{$2.5$}\\\\\n",
    "    log\\left(\\frac{S_T}{S_0}\\right)&=\\frac{\\rho}{\\nu}-\\kappa(T\\theta-\\left(1+\\frac{\\nu^2}{2\\kappa}V_T\\right))-\\frac{1}{2}V_T+\\rho_{*}\\sqrt{V_T}U\n",
    "    \\end{align*} \n",
    "    Where $V_T=\\int_{0}^{T}v_tdt$ and $U \\sim N(0,1)$\n",
    "    \\begin{align*}\n",
    "    E\\left(S_T|v_T,V_T\\right)&=S_0exp\\left(\\frac{\\rho}{\\nu}\\left(log(\\frac{V_T}{V_0})-\\kappa\\left(T\\theta-(1+\\frac{\\nu^2}{2\\kappa})V_T)\\right)\\right)-\\frac{1}{2}\\rho^2V_T\\right),\\tag{$2.6$}\\\\\n",
    "    \\sigma&=\\left((1-\\rho^2)V_T\\right)^{\\frac{1}{2}},\\tag{$2.7$}\n",
    "    \\end{align*} "
   ]
  }
 ],
 "metadata": {
  "kernelspec": {
   "display_name": "Python 3",
   "language": "python",
   "name": "python3"
  },
  "language_info": {
   "codemirror_mode": {
    "name": "ipython",
    "version": 3
   },
   "file_extension": ".py",
   "mimetype": "text/x-python",
   "name": "python",
   "nbconvert_exporter": "python",
   "pygments_lexer": "ipython3",
   "version": "3.8.3"
  }
 },
 "nbformat": 4,
 "nbformat_minor": 4
}

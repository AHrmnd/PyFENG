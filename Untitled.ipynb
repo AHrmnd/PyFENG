{
 "cells": [
  {
   "cell_type": "code",
   "execution_count": 1,
   "id": "04cfac9f",
   "metadata": {},
   "outputs": [
    {
     "ename": "ImportError",
     "evalue": "cannot import name 'BsmContiniousAsianJu2002' from 'pyfeng.Ju2002_Basket_Asian' (D:\\Users\\13260\\Documents\\GitHub\\PyFENG\\pyfeng\\Ju2002_Basket_Asian.py)",
     "output_type": "error",
     "traceback": [
      "\u001b[1;31m---------------------------------------------------------------------------\u001b[0m",
      "\u001b[1;31mImportError\u001b[0m                               Traceback (most recent call last)",
      "\u001b[1;32m<ipython-input-1-6e53c07b89c2>\u001b[0m in \u001b[0;36m<module>\u001b[1;34m\u001b[0m\n\u001b[0;32m      6\u001b[0m \"\"\"\n\u001b[0;32m      7\u001b[0m \u001b[1;33m\u001b[0m\u001b[0m\n\u001b[1;32m----> 8\u001b[1;33m \u001b[1;32mimport\u001b[0m \u001b[0mpyfeng\u001b[0m \u001b[1;32mas\u001b[0m \u001b[0mpf\u001b[0m\u001b[1;33m\u001b[0m\u001b[1;33m\u001b[0m\u001b[0m\n\u001b[0m\u001b[0;32m      9\u001b[0m \u001b[1;32mimport\u001b[0m \u001b[0mnumpy\u001b[0m \u001b[1;32mas\u001b[0m \u001b[0mnp\u001b[0m\u001b[1;33m\u001b[0m\u001b[1;33m\u001b[0m\u001b[0m\n\u001b[0;32m     10\u001b[0m \u001b[1;33m\u001b[0m\u001b[0m\n",
      "\u001b[1;32mD:\\Users\\13260\\Documents\\GitHub\\PyFENG\\pyfeng\\__init__.py\u001b[0m in \u001b[0;36m<module>\u001b[1;34m\u001b[0m\n\u001b[0;32m     12\u001b[0m \u001b[1;32mfrom\u001b[0m \u001b[1;33m.\u001b[0m\u001b[0mheston\u001b[0m \u001b[1;32mimport\u001b[0m \u001b[0mHestonCondMc\u001b[0m\u001b[1;33m\u001b[0m\u001b[1;33m\u001b[0m\u001b[0m\n\u001b[0;32m     13\u001b[0m \u001b[1;32mfrom\u001b[0m \u001b[1;33m.\u001b[0m\u001b[0mousv\u001b[0m \u001b[1;32mimport\u001b[0m \u001b[0mOusvIft\u001b[0m\u001b[1;33m\u001b[0m\u001b[1;33m\u001b[0m\u001b[0m\n\u001b[1;32m---> 14\u001b[1;33m \u001b[1;32mfrom\u001b[0m \u001b[1;33m.\u001b[0m\u001b[0mJu2002_Basket_Asian\u001b[0m \u001b[1;32mimport\u001b[0m \u001b[0mBsmBasketAsianJu2002\u001b[0m\u001b[1;33m,\u001b[0m \u001b[0mBsmContiniousAsianJu2002\u001b[0m\u001b[1;33m\u001b[0m\u001b[1;33m\u001b[0m\u001b[0m\n\u001b[0m",
      "\u001b[1;31mImportError\u001b[0m: cannot import name 'BsmContiniousAsianJu2002' from 'pyfeng.Ju2002_Basket_Asian' (D:\\Users\\13260\\Documents\\GitHub\\PyFENG\\pyfeng\\Ju2002_Basket_Asian.py)"
     ]
    }
   ],
   "source": [
    "# %load jutest.py\n",
    "\"\"\"\n",
    "Created on Sat May  1 20:17:09 2021\n",
    "\n",
    "@author: Yuze, Lantian\n",
    "\"\"\"\n",
    "\n",
    "import pyfeng as pf\n",
    "import numpy as np\n",
    "\n",
    "sigma = np.full(5, 0.2)\n",
    "# cor = np.full((5,5),0)\n",
    "# for i in range(5):\n",
    "#     cor[i,i] = 1\n",
    "weight = [0.05, 0.15, 0.2, 0.25 , 0.35]\n",
    "# weight = [1/156] *156\n",
    "intr = 0.05\n",
    "divr = 0\n",
    "spot = 100\n",
    "texp = 1\n",
    "z = 1\n",
    "\n",
    "#a =pf.BsmBasketAsianJu2002(sigma, 0.5, weight, intr, divr)\n",
    "#print(a.price(100,100,texp,1, True))\n",
    "b=pf.BsmContinuousAsianJu2002(0.05, 0.09, 0)\n",
    "print(b.price(95,100,texp,1))\n",
    "print(b.price(100,100,texp,1))\n",
    "print(b.price(105,100,texp,1))\n",
    "\n"
   ]
  },
  {
   "cell_type": "code",
   "execution_count": null,
   "id": "5d49aa46",
   "metadata": {},
   "outputs": [],
   "source": []
  }
 ],
 "metadata": {
  "kernelspec": {
   "display_name": "Python 3",
   "language": "python",
   "name": "python3"
  },
  "language_info": {
   "codemirror_mode": {
    "name": "ipython",
    "version": 3
   },
   "file_extension": ".py",
   "mimetype": "text/x-python",
   "name": "python",
   "nbconvert_exporter": "python",
   "pygments_lexer": "ipython3",
   "version": "3.8.8"
  }
 },
 "nbformat": 4,
 "nbformat_minor": 5
}

{
 "cells": [
  {
   "cell_type": "code",
   "execution_count": 1,
   "id": "130550dd",
   "metadata": {},
   "outputs": [
    {
     "name": "stdout",
     "output_type": "stream",
     "text": [
      "24.895777919540627\n"
     ]
    }
   ],
   "source": [
    "# %load jutest.py\n",
    "\"\"\"\n",
    "Created on Sat May  1 20:17:09 2021\n",
    "\n",
    "@author: Lantian\n",
    "\"\"\"\n",
    "\n",
    "import pyfeng as pf\n",
    "import numpy as np\n",
    "\n",
    "sigma = np.full(5, 0.2)\n",
    "cor = np.full((5,5),0.2)\n",
    "for i in range(5):\n",
    "    cor[i,i] = 1\n",
    "weight = [0.05,0.15,0.2, 0.25, 0.35]\n",
    "intr = 0.05\n",
    "divr = np.zeros(5)\n",
    "spot = [100,100,100,100,100]\n",
    "texp = 1\n",
    "z = 1\n",
    "strike=90\n",
    "a =pf.Ju2002_Basket_Asian(sigma, cor, weight, intr, divr)\n",
    "a.average_s(spot, texp)\n",
    "a.average_rho(texp)\n",
    "a.ak_bar()\n",
    "a.func_a1(z)\n",
    "a.func_a2(z)\n",
    "a.func_a3(z)\n",
    "a.func_b1(spot, texp, z)\n",
    "a.func_b2(z)\n",
    "a.func_c1(spot,texp,z)\n",
    "a.func_c2(spot, texp, z)\n",
    "a.func_c3(spot, texp, z)\n",
    "a.func_d1(spot,texp,z)\n",
    "a.func_d2(spot,texp,z)\n",
    "a.func_d3(spot,texp,z)\n",
    "a.func_d4(spot,texp,z)\n",
    "print(a.price(strike,spot,texp,1))\n",
    "# a.func_d1(1)\n"
   ]
  },
  {
   "cell_type": "code",
   "execution_count": null,
   "id": "04cfac9f",
   "metadata": {},
   "outputs": [],
   "source": []
  },
  {
   "cell_type": "code",
   "execution_count": null,
   "id": "5d49aa46",
   "metadata": {},
   "outputs": [],
   "source": []
  }
 ],
 "metadata": {
  "kernelspec": {
   "display_name": "Python 3",
   "language": "python",
   "name": "python3"
  },
  "language_info": {
   "codemirror_mode": {
    "name": "ipython",
    "version": 3
   },
   "file_extension": ".py",
   "mimetype": "text/x-python",
   "name": "python",
   "nbconvert_exporter": "python",
   "pygments_lexer": "ipython3",
   "version": "3.8.8"
  }
 },
 "nbformat": 4,
 "nbformat_minor": 5
}

{
 "cells": [
  {
   "cell_type": "markdown",
   "metadata": {},
   "source": [
    "# Almost Exact simulation of the 3/2 model"
   ]
  },
  {
   "cell_type": "markdown",
   "metadata": {},
   "source": [
    "##  1. Assumption"
   ]
  },
  {
   "cell_type": "markdown",
   "metadata": {},
   "source": [
    "According to Baldeaux(2013), The dynamics of the stock price under the 3/2 model under the risk-neutral measure are given by\n",
    "\n",
    "$$\n",
    " \\frac{dS_t}{S_t} = rdt + \\sqrt{V_t}\\rho dW_t^1 + \\sqrt{V_t}\\sqrt{1-\\rho^2}dW_t^2 \\tag{1}\n",
    "$$\n",
    "\n",
    "$$\n",
    " \\frac{dV_t}{V_t} = \\kappa (\\theta - V_t)dt + \\epsilon \\sqrt{V_t}dW_t^1\n",
    "$$\n",
    "\n",
    "which is equivalent to\n",
    "\n",
    "$$\n",
    " dV_t = \\kappa V_t (\\theta - V_t)dt + \\epsilon V_t^{3/2}dW_t^1 \\tag{2}\n",
    "$$\n",
    "\n",
    "where $W_t^1$ and $W_t^2$ are independent Brownian motions. Regarding the parameters, $r$ represents the constant interest rate, $\\rho$ the instantaneous correlation between the return on the stock and the variance process and $\\epsilon$ governs the volatility of volatility.The speed of mean reversion is given by $\\kappa V_t$ and $\\theta$ denotes the long-run mean of the variance process."
   ]
  },
  {
   "cell_type": "markdown",
   "metadata": {},
   "source": [
    "## 2.  Mathematical basis"
   ]
  },
  {
   "cell_type": "markdown",
   "metadata": {},
   "source": [
    "Defining $X_t = \\frac{1}{V_t}$, we obtain\n",
    "\n",
    "$$\n",
    "dX_t = (\\kappa + \\epsilon^2 - \\kappa\\theta X_t)dt - \\epsilon \\sqrt{X_t}dW_t^1 \\tag{3}\n",
    "$$"
   ]
  },
  {
   "cell_type": "markdown",
   "metadata": {},
   "source": [
    "Hence, using the process $X_t$, we obtain the following dynamics for the stock price, where $u > t$\n",
    "\n",
    "$\n",
    "S_u = S_t \\exp\\lbrace r(u-t) - 1/2 \\int_t^u(X_s)^{-1}ds + \\rho \\int_t^u({\\sqrt{X_s})^{-1}dW_s^1}\\rbrace \\exp \\lbrace \\sqrt{1-\\rho^2} \\int_t^u(\\sqrt{X_s})^{-1} dW_s^2\\rbrace \\tag{4}\n",
    "$\n"
   ]
  },
  {
   "cell_type": "markdown",
   "metadata": {},
   "source": [
    "From Baldeaux(2013), study $\\log(X_t)$\n",
    "\n",
    "$\n",
    "\\int_t^u({\\sqrt{X_s})^{-1}dW_s^1} = \\frac{1}{\\epsilon} (log(\\frac{X_t}{X_u}) + (k + \\frac{\\epsilon^2}{2})\\int_{t}^{u}\\frac{ds}{X_s}-k\\theta(u-t)) \\tag{5}\n",
    "$"
   ]
  },
  {
   "cell_type": "markdown",
   "metadata": {},
   "source": [
    "Therefore, the only thing we need to know is the distribution of $X_t$ and $\\int_{t}^{u}\\frac{ds}{X_s}$ conditional on $X_t$"
   ]
  },
  {
   "cell_type": "markdown",
   "metadata": {},
   "source": [
    "## 3. Numerical method "
   ]
  },
  {
   "cell_type": "markdown",
   "metadata": {},
   "source": [
    "Using Broadie-Kaya algorithm, we specify the simulation as 4 steps"
   ]
  },
  {
   "cell_type": "markdown",
   "metadata": {},
   "source": [
    "### Step 1) Simulate $X_u|X_t$ using the noncentral $\\chi^2$ distribution"
   ]
  },
  {
   "cell_type": "markdown",
   "metadata": {},
   "source": [
    "$X_u$ is distributed as a noncentral $ \\chi^2 $ distribution\n",
    "\n",
    "$$\n",
    "\\frac{X_u{\\rm exp}\\lbrace \\kappa \\theta (u-t) \\rbrace}{c(u-t)} \\sim \\chi^2(\\delta, \\alpha) \\tag{6}\n",
    "$$\n",
    "\n",
    "where\n",
    "$$\n",
    "\\delta = \\frac{4(\\kappa + \\epsilon^2)}{\\epsilon^2}, \\quad \\alpha = \\frac{X_t}{c(u-t)}, \\quad c(t) = \\frac{\\epsilon^2({\\rm exp}\\lbrace \\kappa\\theta u \\rbrace - 1)}{4\\kappa\\theta}\n",
    "$$"
   ]
  },
  {
   "cell_type": "markdown",
   "metadata": {},
   "source": [
    "### Step 2)  Simulate $\\int_t^u \\frac{ds}{X_s}$ Given $X_u, X_t$"
   ]
  },
  {
   "cell_type": "markdown",
   "metadata": {},
   "source": [
    "We first derive the characteristic function of $\\int_u^t \\frac{ds}{X_s}$, which is provided in Baldeaux(2013)\n",
    "\n",
    "$$\n",
    "E\\left({\\rm exp}\\left\\lbrace -a^* \\int_0^t \\frac{ds}{X_s} \\ \\bigg| \\ X_t \\right\\rbrace \\right) = \\frac{I_{\\sqrt{\\nu^2+8a/\\epsilon^2}}\\left(-\\frac{j\\sqrt{X_tX_u}}{{\\rm sinh}\\left(j\\Delta\\right)}\\right)}{I_{\\nu}\\left(-\\frac{j\\sqrt{X_tX_u}}{{\\rm sinh}\\left(j\\Delta\\right)}\\right)}\\tag{7}\n",
    "$$\n",
    "\n",
    "where $j=-\\frac{2\\kappa\\theta}{\\epsilon^2}$, $\\Delta=\\frac{u\\epsilon^2}{4}-\\frac{t\\epsilon^2}{4}$, $v=\\frac{n}{2}-1$.\n"
   ]
  },
  {
   "cell_type": "markdown",
   "metadata": {},
   "source": [
    "Then we use the characteristic function to generate moment $M1$, $M2$. For simplicity, we define $\\mu = M1$, $\\sigma = \\sqrt{log(\\frac{M2}{M1^2})}$, and assume that $\\int_t^u \\frac{ds}{X_s}$ follows the lognorm distribution $\\mathscr{L}(\\mu, \\sigma)$, then we can simulate $\\int_t^u \\frac{ds}{X_s}$. (which is different from Baldeaux(2013))"
   ]
  },
  {
   "cell_type": "markdown",
   "metadata": {},
   "source": [
    "### Step 3) Recover $\\int_t^u({\\sqrt{X_s})^{-1}dW_s^1}$ from (5)"
   ]
  },
  {
   "cell_type": "markdown",
   "metadata": {},
   "source": [
    "### Step 4) Simulate $S_u$ given $S_t$,   $\\int_t^u({\\sqrt{X_s})^{-1}dW_s^1}$ and $\\int_u^t \\frac{ds}{X_s}$ via "
   ]
  },
  {
   "cell_type": "markdown",
   "metadata": {},
   "source": [
    "$$\n",
    "log(S_u) \\sim N(log(S_t)+r(\\mu-t)-\\frac{1}{2}\\int_t^u \\frac{ds}{X_s}+\\rho\\int_t^u({\\sqrt{X_s})^{-1}dW_s^1},  \\sigma^2(t,n))\\tag{8}\n",
    "$$\n",
    "where \n",
    "$$\n",
    "\\sigma^2(t, \\mu) = (1-\\rho^2)\\int_t^u \\frac{ds}{X_s}\n",
    "$$"
   ]
  },
  {
   "cell_type": "markdown",
   "metadata": {},
   "source": [
    "The option price is $C_{BS}(K,S_u, \\frac{\\sigma(t, \\mu)}{\\sqrt{u-t}})$"
   ]
  }
 ],
 "metadata": {
  "kernelspec": {
   "display_name": "Python 3",
   "language": "python",
   "name": "python3"
  },
  "language_info": {
   "codemirror_mode": {
    "name": "ipython",
    "version": 3
   },
   "file_extension": ".py",
   "mimetype": "text/x-python",
   "name": "python",
   "nbconvert_exporter": "python",
   "pygments_lexer": "ipython3",
   "version": "3.6.6"
  }
 },
 "nbformat": 4,
 "nbformat_minor": 5
}
